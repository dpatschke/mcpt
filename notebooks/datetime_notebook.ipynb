{
 "cells": [
  {
   "cell_type": "code",
   "execution_count": null,
   "metadata": {
    "collapsed": true
   },
   "outputs": [],
   "source": [
    "# Datetime notebook"
   ]
  },
  {
   "cell_type": "code",
   "execution_count": null,
   "metadata": {
    "collapsed": true
   },
   "outputs": [],
   "source": [
    "from datetime import datetime\n",
    "\n",
    "year = np.random.randint(2000, 2017)\n",
    "month = np.random.randint(1, 12)\n",
    "day = np.random.randint(1, 28)\n",
    "hour = np.random.randint(0, 23)\n",
    "minute = np.random.randint(0, 59)\n",
    "seconds = np.random.randint(0, 59)\n",
    "\n",
    "rand_date = datetime(year, month, day, hour, minute, seconds)"
   ]
  },
  {
   "cell_type": "code",
   "execution_count": null,
   "metadata": {
    "collapsed": true
   },
   "outputs": [],
   "source": [
    "minute_seconds = 60\n",
    "hour_seconds = 60 * minute_seconds\n",
    "day_seconds = 24 * hour_seconds\n",
    "week_seconds = 7 * day_seconds\n",
    "#month_seconds = \n",
    "#year_seconds"
   ]
  },
  {
   "cell_type": "code",
   "execution_count": null,
   "metadata": {
    "collapsed": true
   },
   "outputs": [],
   "source": [
    "import numpy as np\n",
    "def dt_cart(x, cycle='day'):\n",
    "    minute_seconds = 60\n",
    "    hour_seconds = 60 * minute_seconds\n",
    "    day_seconds = 24 * hour_seconds\n",
    "    week_seconds = 7 * day_seconds\n",
    "    \n",
    "    if cycle == 'hour':\n",
    "        divisor = hour_seconds\n",
    "        c = x.minute + x.second\n",
    "    elif cycle == 'day':\n",
    "        divisor = day_seconds\n",
    "        c = x.hour + x.minute + x.second\n",
    "    elif cycle == 'week':\n",
    "        divisor = week_seconds\n",
    "        c = x.weekday() * day_seconds + x.hour + x.minute + x.second\n",
    "    \n",
    "    c = (c % divisor)/divisor * 2 * np.pi\n",
    "    \n",
    "    return np.sin(c), np.cos(c)"
   ]
  },
  {
   "cell_type": "code",
   "execution_count": null,
   "metadata": {
    "collapsed": true
   },
   "outputs": [],
   "source": [
    "rand_date"
   ]
  },
  {
   "cell_type": "code",
   "execution_count": null,
   "metadata": {
    "collapsed": true
   },
   "outputs": [],
   "source": []
  }
 ],
 "metadata": {
  "kernelspec": {
   "display_name": "Python 3",
   "language": "python",
   "name": "python3"
  },
  "language_info": {
   "codemirror_mode": {
    "name": "ipython",
    "version": 3
   },
   "file_extension": ".py",
   "mimetype": "text/x-python",
   "name": "python",
   "nbconvert_exporter": "python",
   "pygments_lexer": "ipython3",
   "version": "3.6.2"
  }
 },
 "nbformat": 4,
 "nbformat_minor": 2
}
